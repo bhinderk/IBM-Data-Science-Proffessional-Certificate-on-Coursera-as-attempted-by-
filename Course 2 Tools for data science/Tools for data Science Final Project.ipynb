{
 "cells": [
  {
   "cell_type": "markdown",
   "metadata": {},
   "source": [
    "# My Jupyter Notebook on IBM Watson Studio"
   ]
  },
  {
   "cell_type": "markdown",
   "metadata": {},
   "source": [
    "__Karman Bhinder__ \n",
    "\n",
    "Data Analyst"
   ]
  },
  {
   "cell_type": "markdown",
   "metadata": {},
   "source": [
    "*I am interested in data science because I love playing with data and finding interesting insights that explain certain things. My favourite part of data analysis finding out if there's a correlation between two variables or not. You never know what to variables you might find to be correlated.*"
   ]
  },
  {
   "cell_type": "markdown",
   "metadata": {},
   "source": [
    "### In cell number 5, I am going to create 2 arrays and create a scatterplot using numpy and pylab libraries.\n"
   ]
  },
  {
   "cell_type": "code",
   "execution_count": 2,
   "metadata": {},
   "outputs": [
    {
     "data": {
      "text/plain": [
       "[<matplotlib.lines.Line2D at 0x7fb3bf7e5ca0>]"
      ]
     },
     "execution_count": 2,
     "metadata": {},
     "output_type": "execute_result"
    },
    {
     "data": {
      "image/png": "[encoded data removed]",
      "text/plain": [
       "<Figure size 432x288 with 1 Axes>"
      ]
     },
     "metadata": {
      "needs_background": "light"
     },
     "output_type": "display_data"
    }
   ],
   "source": [
    "import numpy as np\n",
    "import pylab as plt\n",
    "\n",
    "t=np.arange(0,10,0.5)\n",
    "y=np.linspace(1,20,num = 20)\n",
    "\n",
    "plt.plot(y,t)"
   ]
  },
  {
   "cell_type": "markdown",
   "metadata": {},
   "source": [
    "The three things that I used in this markdown cell are \n",
    "---\n",
    "- Horizontal Rule \n",
    "- Bullted List\n",
    "- ~~Strikethrough\n",
    "\n",
    "Here's a little bonus for you:\n",
    "[Youtube](https://www.youtube.com/watch?v=dQw4w9WgXcQ)\n"
   ]
  }
 ],
 "metadata": {
  "kernelspec": {
   "display_name": "Python 3.9",
   "language": "python",
   "name": "python3"
  },
  "language_info": {
   "codemirror_mode": {
    "name": "ipython",
    "version": 3
   },
   "file_extension": ".py",
   "mimetype": "text/x-python",
   "name": "python",
   "nbconvert_exporter": "python",
   "pygments_lexer": "ipython3",
   "version": "3.9.13"
  }
 },
 "nbformat": 4,
 "nbformat_minor": 1
}
